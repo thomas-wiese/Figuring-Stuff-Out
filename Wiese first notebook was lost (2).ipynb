{
 "cells": [
  {
   "cell_type": "markdown",
   "id": "reliable-insurance",
   "metadata": {},
   "source": [
    "Sadly, the notebook I started before is gone.  For some reason my files are not stored permanently and I need to find out why.  Why I launch the binder everything goes into transient mode."
   ]
  },
  {
   "cell_type": "code",
   "execution_count": null,
   "id": "unlikely-enterprise",
   "metadata": {},
   "outputs": [],
   "source": []
  },
  {
   "cell_type": "markdown",
   "id": "visible-investment",
   "metadata": {},
   "source": [
    "I just left a code box in place because that is what I had before"
   ]
  }
 ],
 "metadata": {
  "kernelspec": {
   "display_name": "Python 3",
   "language": "python",
   "name": "python3"
  },
  "language_info": {
   "codemirror_mode": {
    "name": "ipython",
    "version": 3
   },
   "file_extension": ".py",
   "mimetype": "text/x-python",
   "name": "python",
   "nbconvert_exporter": "python",
   "pygments_lexer": "ipython3",
   "version": "3.7.10"
  }
 },
 "nbformat": 4,
 "nbformat_minor": 5
}
