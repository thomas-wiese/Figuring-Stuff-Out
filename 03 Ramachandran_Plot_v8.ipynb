{
 "cells": [
  {
   "cell_type": "markdown",
   "metadata": {},
   "source": [
    "#  <font color = 545AA7> Bond Angles and Ramachandran Plots </font>\n",
    "\n",
    "In this Jupyter notebook, you will be introduced to measuring the **angles** and **dihedral angles** along the backbond of peptide chains. The goals of this notebook are to:\n",
    "- Measure angles and dihedral angles using biopython\n",
    "- Examine angle distributions using histogram plots\n",
    "- Generate Ramachandran plots by multiple plotting methods\n",
    "\n",
    "**Dihedral angles** are torsional angles formed by four adjacent atoms. There are three types of dihedral angles along the peptide backbond designated wiht phi ($\\phi$), psi ($\\psi$), and omega ($\\omega$) as shown below. These angles typically fall within specific ranges due to steric repulsion and bond order. In this notebook, we will explore these typical ranges."
   ]
  },
  {
   "cell_type": "code",
   "execution_count": null,
   "metadata": {},
   "outputs": [],
   "source": [
    "from IPython.display import Image\n",
    "Image(\"tripeptide.png\", width=400)"
   ]
  },
  {
   "cell_type": "markdown",
   "metadata": {},
   "source": [
    "### <font color = F28500> Big question: What are the trends in bond angles in proteins? </font>"
   ]
  },
  {
   "cell_type": "code",
   "execution_count": null,
   "metadata": {},
   "outputs": [],
   "source": [
    "import Bio.PDB\n",
    "from Bio.PDB.vectors import calc_dihedral, calc_angle\n",
    "\n",
    "import matplotlib.pyplot as plt\n",
    "%matplotlib inline\n",
    "import os\n",
    "\n",
    "import warnings\n",
    "from Bio import BiopythonWarning\n",
    "warnings.simplefilter('ignore', BiopythonWarning)"
   ]
  },
  {
   "cell_type": "code",
   "execution_count": null,
   "metadata": {},
   "outputs": [],
   "source": [
    "parser = Bio.PDB.PDBParser()\n",
    "structure = parser.get_structure('6x8j', '6x8j.pdb')\n",
    "\n",
    "chain_A = structure[0]['A']\n",
    "res = chain_A[58]"
   ]
  },
  {
   "cell_type": "markdown",
   "metadata": {},
   "source": [
    "## <font color = 545AA7> 1. Measure Single Peptide Angles </font>\n",
    "\n",
    "The `Bio.PDB.vectors` module of biopython contains two functions called `calc_angle()` and `calc_dihedral()` for calculating conventional angles or dihedral angles, respecitely, along the backbond of a peptide. These function take the vector coordinates (xyz) of the three or four atoms that define the angle or dihedral angle.\n",
    "\n",
    "~~~python\n",
    "calc_angle(<vector>, <vector>, <vector>)\n",
    "\n",
    "calc_dihedral(<vector>, <vector>, <vector>, <vector>)\n",
    "~~~\n",
    "\n",
    "The vectors can be otained from the residues using the `get_vector()` function.\n",
    "\n",
    "For example, let's say we want to know the C-N-C$_\\alpha$ angle. The first block of code loads a PDB file and grabs the first amino acid residue of the first chain of the 6x8j.pdb structure. "
   ]
  },
  {
   "cell_type": "markdown",
   "metadata": {},
   "source": [
    "Next, we will obtain the coordinate vectors for the carbon, nitrogen, and $\\alpha$-carbon of an amino acid residue and attach them to variables `N`, `CA`, and `C`, respectively. This is done by identifying the specific atom and using the `get_vector()` function as described in the previous Jupyter notebook.\n",
    "\n",
    "Finally, these three vectors are fed into the `calc_angle()` function which returns the angle in radians."
   ]
  },
  {
   "cell_type": "code",
   "execution_count": null,
   "metadata": {},
   "outputs": [],
   "source": [
    "C = res['C'].get_vector()\n",
    "N = res['N'].get_vector()\n",
    "CA = res['CA'].get_vector()\n",
    "\n",
    "ang = calc_angle(N, CA, C)\n",
    "ang"
   ]
  },
  {
   "cell_type": "markdown",
   "metadata": {},
   "source": [
    "## <font color = F28500> Practice: Find Angle in Degrees </font>\n",
    "\n",
    "Copy and paste the code from the above code cell and modify it to find the angle of the C$_\\alpha$-C-O bond. The oxygen in the aminoacid residue is designated by `['O']`.\n",
    "\n",
    "If you have time, convert the output from radiants $\\rightarrow$ degrees using the following function from the `math` module.\n",
    "\n",
    "~~~python\n",
    "import math\n",
    "math.degrees(<radians>)\n",
    "~~~"
   ]
  },
  {
   "cell_type": "code",
   "execution_count": null,
   "metadata": {},
   "outputs": [],
   "source": []
  },
  {
   "cell_type": "code",
   "execution_count": null,
   "metadata": {},
   "outputs": [],
   "source": []
  },
  {
   "cell_type": "markdown",
   "metadata": {},
   "source": [
    "## <font color = 545AA7> 2. Examine Distributions of Angles </font>\n",
    "\n",
    "Let's now examine the distribution of the omega ($\\omega$) bond angles using a histogram plot. In the code cell below, there is code that defines the Python function `get_omega()` you can use to measure all the omega dihedral angles.\n",
    "\n",
    "### <font color = F28500> Run the pre-written code in the following cell. </font>"
   ]
  },
  {
   "cell_type": "code",
   "execution_count": null,
   "metadata": {},
   "outputs": [],
   "source": [
    "# Run this cell to define a function you can use in subsequent cells\n",
    "\n",
    "def get_abs_omega(file):\n",
    "    \"\"\"Return list of absolute value omega dihedral angles in radians\"\"\"  \n",
    "    omega_list = []\n",
    "    parser = Bio.PDB.PDBParser()\n",
    "    structure = parser.get_structure('protein', file)\n",
    "    pp = Bio.PDB.PPBuilder().build_peptides(structure[0])\n",
    "    for chain in pp:\n",
    "        for res in range(0, len(chain) - 1):\n",
    "            try:\n",
    "                # get vectors for this peptide and the N from the subsequent peptide\n",
    "                CA = chain[res]['CA'].get_vector()\n",
    "                C = chain[res]['C'].get_vector()\n",
    "                N_next = chain[res + 1]['N'].get_vector()\n",
    "                C_next = chain[res + 1]['CA'].get_vector()\n",
    "                omega = calc_dihedral(CA, C, N_next, C_next) * (180 / 3.14159)\n",
    "                omega_list.append(abs(omega))\n",
    "            except KeyError:\n",
    "                continue\n",
    "    return omega_list"
   ]
  },
  {
   "cell_type": "markdown",
   "metadata": {},
   "source": [
    "Now you will use the function in the following cell. Place the name of a PDB file in quotes inside the parentheses, and the function will return a list of omega dihedral angles in degrees.\n",
    "\n",
    "Example: \n",
    "~~~python\n",
    "get_abs_omega('5grt.pdb')\n",
    "~~~\n",
    "\n"
   ]
  },
  {
   "cell_type": "markdown",
   "metadata": {},
   "source": [
    "## <font color = F28500> Practice: Plot Omega Angle Distribution </font>\n",
    "\n",
    "1. Run the `get_abs_omega()` function below for the **6x8j.pdb** protein. You will also want to assign this list of angles to a variable for later use.\n",
    "2. Plot the distribution of omega angles using the `plt.hist()` histogram plot function. See the first Jupyter notebook if you need review.\n",
    "3. What do you notice about the distribution? What is the strucutral reason for this? Write you answer in a markdown cell below. *Hint: the omega angle is centered on the peptide amide bond.*"
   ]
  },
  {
   "cell_type": "code",
   "execution_count": null,
   "metadata": {},
   "outputs": [],
   "source": []
  },
  {
   "cell_type": "code",
   "execution_count": null,
   "metadata": {},
   "outputs": [],
   "source": []
  },
  {
   "cell_type": "markdown",
   "metadata": {},
   "source": [
    "Next, let's harvest data from a larger dataset of protein structures!"
   ]
  },
  {
   "cell_type": "code",
   "execution_count": null,
   "metadata": {},
   "outputs": [],
   "source": [
    "omega = []\n",
    "\n",
    "import os\n",
    "path, _ = os.path.split(os.getcwd())\n",
    "top80 = os.path.join(path, 'Top80')\n",
    "\n",
    "for file in os.listdir(top80):\n",
    "    if file.endswith('pdb'):\n",
    "        omega.extend(get_abs_omega(os.path.join(top80,file)))"
   ]
  },
  {
   "cell_type": "code",
   "execution_count": null,
   "metadata": {},
   "outputs": [],
   "source": []
  },
  {
   "cell_type": "markdown",
   "metadata": {},
   "source": [
    "## <font color = 545AA7> 3. Ramachandran Plots from Single Protein </font>\n",
    "\n",
    "A **Ramachandran plot** is a 2D plot of the psi ($\\psi$) versus the phi ($phi$) dihedral angles. Below is a function that takes the file name of a PDB file and returns two lists: a list of phi and and list of psi angles.\n",
    "\n",
    "e.g.,  `ramachandran('1abc.pdb')` -> `[phi], [psi]`"
   ]
  },
  {
   "cell_type": "code",
   "execution_count": null,
   "metadata": {},
   "outputs": [],
   "source": [
    "def ramachandran(PDB):\n",
    "    \"\"\"Accepts a PDB file name (string) and returns two lists of phi and psi angles, respectively.\"\"\"\n",
    "    parser = Bio.PDB.PDBParser()\n",
    "    structure = parser.get_structure('protein', PDB)\n",
    "    polypeptide = Bio.PDB.PPBuilder().build_peptides(structure[0])\n",
    "    \n",
    "    phi = []\n",
    "    psi = []\n",
    "\n",
    "    for strand in polypeptide:\n",
    "        phipsi = strand.get_phi_psi_list()\n",
    "        for point in phipsi:\n",
    "            try:\n",
    "                phi_point = point[0] * (180 / 3.14159)\n",
    "                psi_point = point[1] * (180 / 3.14159)\n",
    "                phi.append(phi_point)\n",
    "                psi.append(psi_point)\n",
    "            except TypeError:\n",
    "                pass\n",
    "    \n",
    "    return phi, psi"
   ]
  },
  {
   "cell_type": "markdown",
   "metadata": {},
   "source": [
    "Let's run the `ramachandran` function with a single **6x8j.pdb** protein file and plot the result in a `scatter(x,y)` plot."
   ]
  },
  {
   "cell_type": "code",
   "execution_count": null,
   "metadata": {},
   "outputs": [],
   "source": []
  },
  {
   "cell_type": "markdown",
   "metadata": {},
   "source": [
    "## <font color = 545AA7> 4. Ramachandran Plots from Multiple Top8000 Proteins </font>\n",
    "\n",
    "We will now collect data on a larger number of PDB files and plot the result. You have been provided a folder containing a few PDB files from the Top8000 dataset. Calculating the phi and psi angles for all 8000 often requires at least a few minutes of computer time, so for the sake of time, we will only work with a subset of this dataset. You can download the full dataset from [http://kinemage.biochem.duke.edu/databases/top8000.php](http://kinemage.biochem.duke.edu/databases/top8000.php) if you wish to use the full dataset *at a later date*."
   ]
  },
  {
   "cell_type": "code",
   "execution_count": null,
   "metadata": {},
   "outputs": [],
   "source": [
    "import os\n",
    "path, _ = os.path.split(os.getcwd())\n",
    "top80 = os.path.join(path, 'Top80')"
   ]
  },
  {
   "cell_type": "code",
   "execution_count": null,
   "metadata": {},
   "outputs": [],
   "source": [
    "phi_list = []\n",
    "psi_list = []\n",
    "\n",
    "for file in os.listdir(top80):\n",
    "    if file.endswith('pdb'):\n",
    "        phi, psi = ramachandran(os.path.join(top80,file))\n",
    "        phi_list.extend(phi)\n",
    "        psi_list.extend(psi)"
   ]
  },
  {
   "cell_type": "code",
   "execution_count": null,
   "metadata": {},
   "outputs": [],
   "source": []
  },
  {
   "cell_type": "markdown",
   "metadata": {},
   "source": [
    "### <font color = 545AA7> Other Plotting Representations </font>\n",
    "\n",
    "One issue with the scatter plot above is that it's difficult to see any features inside the two large regions on the left side. Once there is a critical mass of dots in the scatter plot, it's just a solid color. There are other plotting libraries and functions available to help. Along with the popular matplotlib library, there is the [seaborn](https://seaborn.pydata.org/) Python plotting library that includes a selection of relatively simple to use plotting functions that can help."
   ]
  },
  {
   "cell_type": "code",
   "execution_count": null,
   "metadata": {},
   "outputs": [],
   "source": [
    "import seaborn as sns\n",
    "sns.kdeplot(x=phi_list, y=psi_list, cbar=True, cmap='viridis')\n",
    "plt.xlabel('phi $\\phi$, degrees')\n",
    "plt.ylabel('psi $\\psi$, degrees')"
   ]
  },
  {
   "cell_type": "code",
   "execution_count": null,
   "metadata": {},
   "outputs": [],
   "source": [
    "sns.jointplot(x=phi_list, y=psi_list)"
   ]
  },
  {
   "cell_type": "code",
   "execution_count": null,
   "metadata": {},
   "outputs": [],
   "source": [
    "sns.jointplot(x=phi_list, y=psi_list, kind='kde')"
   ]
  },
  {
   "cell_type": "markdown",
   "metadata": {},
   "source": [
    "## <font color = 545aa7> 5. Plotting Ramachandrans Plots with Secondary Structure </font>\n",
    "\n",
    "For a little extra practice, let's visualize how the presencen of helix and sheet **secondary structures** affects the phi and psi angles. Run the following two code cells to harvest a the phi and psi angles from your 80 protein dataset, but this time, it will also record if each amino acid residue is unstructured, in a helix, or in a sheet. *Note: helicies in this dataset are a mixture of $\\alpha$-helicies or $3_{10}$-helicies*"
   ]
  },
  {
   "cell_type": "code",
   "execution_count": null,
   "metadata": {},
   "outputs": [],
   "source": [
    "def get_secondary_list(file):\n",
    "    '''(string) -> ([list], [list])\n",
    "    \n",
    "    Accepts a PDB file name (string) and returns two lists of residues\n",
    "    contained inside helicies and sheets, respetively. The residues are\n",
    "    strings containing the chain identifies and residue number\n",
    "    \n",
    "    >>> ('1abc.pdb') -> [['A34', 'A35', 'A36'], ['A74', 'A75', 'A93', 'A94']] \n",
    "    '''\n",
    "    \n",
    "    alpha = []\n",
    "    three_ten = []\n",
    "    sheets = []\n",
    "    \n",
    "    with open(file, 'r') as f:\n",
    "        for line in f:\n",
    "            if line.startswith('HELIX'):\n",
    "                chain = line[19:20]\n",
    "                start = line[21:25].strip()\n",
    "                stop = line[33:37].strip()\n",
    "                \n",
    "                if line[39:40] == '1':\n",
    "                    for res in range(int(start), int(stop) + 1):\n",
    "                        alpha.append(chain + str(res))\n",
    "                if line[39:40] == '5':\n",
    "                    for res in range(int(start), int(stop) + 1):\n",
    "                        three_ten.append(chain + str(res))\n",
    "                    \n",
    "            if line.startswith('SHEET'):\n",
    "                chain = line[21:22]\n",
    "                start = line[22:26].strip()\n",
    "                stop = line[33:37].strip()\n",
    "                \n",
    "                for res in range(int(start), int(stop) + 1):\n",
    "                    sheets.append(chain + str(res))\n",
    "                    \n",
    "    return alpha, three_ten, sheets\n",
    "\n",
    "def get_phi_psi_sec_list(file):\n",
    "    \"\"\"Return list of absolute value omega dihedral angles in radians\"\"\" \n",
    "    \n",
    "    alpha, three_ten, beta = get_secondary_list(file)\n",
    "    \n",
    "    phi_psi_structure = []\n",
    "    \n",
    "    parser = Bio.PDB.PDBParser()\n",
    "    structure = parser.get_structure('protein', file)\n",
    "    \n",
    "    for chain in structure[0]:\n",
    "        # get chain ID and residue numbers\n",
    "        ID = chain.get_id()\n",
    "        seq_ID = [residue.get_id()[1] for residue in chain]\n",
    "        \n",
    "        pp = Bio.PDB.PPBuilder().build_peptides(chain)[0]\n",
    "        \n",
    "        for res in range(1, len(pp) - 1):\n",
    "            res_ID = ID + str(seq_ID[res])\n",
    "            #print(res_ID)\n",
    "            try:\n",
    "                # get vectors for this peptide and the N from the subsequent peptide\n",
    "                \n",
    "                C_prev = pp[res - 1]['C'].get_vector()\n",
    "                CA = pp[res]['CA'].get_vector()\n",
    "                C = pp[res]['C'].get_vector()\n",
    "                N = pp[res]['N'].get_vector()\n",
    "                N_next = pp[res + 1]['N'].get_vector()\n",
    "                phi = calc_dihedral(C_prev, N, CA, C) * (180 / 3.14159)\n",
    "                psi = calc_dihedral(N, CA,C, N_next) * (180 / 3.14159)\n",
    "    \n",
    "                if res_ID in alpha:\n",
    "                    structure = 'alpha-helix'\n",
    "                elif res_ID in three_ten:\n",
    "                    structure = 'three_ten-helix'\n",
    "                elif res_ID in beta:\n",
    "                    structure = 'sheet'\n",
    "                else:\n",
    "                    structure = 'unstructured'\n",
    "                    \n",
    "                phi_psi_structure.append([phi, psi, structure])\n",
    "\n",
    "                \n",
    "            except KeyError:\n",
    "                print('Key Error!')\n",
    "                \n",
    "        return phi_psi_structure"
   ]
  },
  {
   "cell_type": "code",
   "execution_count": null,
   "metadata": {},
   "outputs": [],
   "source": [
    "phi_psi_sec = []\n",
    "\n",
    "path, _ = os.path.split(os.getcwd())\n",
    "top80 = os.path.join(path, 'Top80')\n",
    "\n",
    "for file in os.listdir(top80):\n",
    "    if file.endswith('pdb'):\n",
    "        phi_psi_sec.extend(get_phi_psi_sec_list(os.path.join(top80,file)))       "
   ]
  },
  {
   "cell_type": "code",
   "execution_count": null,
   "metadata": {},
   "outputs": [],
   "source": [
    "import pandas as pd\n",
    "df = pd.DataFrame(data=phi_psi_sec, columns=['phi','psi', 'structure'])\n",
    "df"
   ]
  },
  {
   "cell_type": "markdown",
   "metadata": {},
   "source": [
    "Now let's plot the data using the **seaborn** plotting library which contains an assortment of ploting functions that produce more complex plots with relatively few lines of code.\n",
    "\n"
   ]
  },
  {
   "cell_type": "code",
   "execution_count": null,
   "metadata": {},
   "outputs": [],
   "source": []
  },
  {
   "cell_type": "code",
   "execution_count": null,
   "metadata": {},
   "outputs": [],
   "source": []
  },
  {
   "cell_type": "code",
   "execution_count": null,
   "metadata": {},
   "outputs": [],
   "source": [
    "df_alpha = df[df['structure'] == 'alpha-helix']\n",
    "df_310 = df[df['structure'] == 'three_ten-helix']\n",
    "\n",
    "df_helix = pd.concat((df_alpha, df_310))\n",
    "df_helix"
   ]
  },
  {
   "cell_type": "code",
   "execution_count": null,
   "metadata": {},
   "outputs": [],
   "source": []
  },
  {
   "cell_type": "code",
   "execution_count": null,
   "metadata": {},
   "outputs": [],
   "source": []
  }
 ],
 "metadata": {
  "kernelspec": {
   "display_name": "Python 3",
   "language": "python",
   "name": "python3"
  },
  "language_info": {
   "codemirror_mode": {
    "name": "ipython",
    "version": 3
   },
   "file_extension": ".py",
   "mimetype": "text/x-python",
   "name": "python",
   "nbconvert_exporter": "python",
   "pygments_lexer": "ipython3",
   "version": "3.8.8"
  }
 },
 "nbformat": 4,
 "nbformat_minor": 4
}
